{
 "cells": [
  {
   "cell_type": "code",
   "execution_count": 1,
   "metadata": {},
   "outputs": [],
   "source": [
    "import pandas as pd\n",
    "import datetime as dt\n",
    "weatherHistory=pd.read_csv('weatherHistory.csv')"
   ]
  },
  {
   "cell_type": "code",
   "execution_count": null,
   "metadata": {
    "scrolled": false
   },
   "outputs": [
    {
     "name": "stderr",
     "output_type": "stream",
     "text": [
      "C:\\Users\\ASUS\\Anaconda3\\lib\\site-packages\\ipykernel_launcher.py:2: SettingWithCopyWarning: \n",
      "A value is trying to be set on a copy of a slice from a DataFrame\n",
      "\n",
      "See the caveats in the documentation: http://pandas.pydata.org/pandas-docs/stable/user_guide/indexing.html#returning-a-view-versus-a-copy\n",
      "  \n"
     ]
    }
   ],
   "source": [
    "for i in range(weatherHistory.shape[0]):\n",
    "    weatherHistory['Formatted Date'][i]=dt.datetime.strptime(weatherHistory['Formatted Date'][i],'%Y-%m-%d %H:%M:%S.%f %z')"
   ]
  },
  {
   "cell_type": "code",
   "execution_count": null,
   "metadata": {},
   "outputs": [],
   "source": [
    "month_list=[]\n",
    "year_list=[]\n",
    "for i in weatherHistory['Formatted Date']:\n",
    "    month_list.append(i.month)\n",
    "    year_list.append(i.year)\n",
    "    \n",
    "weatherHistory['Month']=month_list\n",
    "weatherHistory['Year']=year_list\n"
   ]
  },
  {
   "cell_type": "code",
   "execution_count": null,
   "metadata": {
    "scrolled": true
   },
   "outputs": [],
   "source": [
    "s = pd.Series(weatherHistory.shape[0])\n",
    "b=list(range(s[0]))\n",
    "weatherHistory=weatherHistory.sort_values('Formatted Date').reset_index().drop('index',axis=1)"
   ]
  },
  {
   "cell_type": "code",
   "execution_count": null,
   "metadata": {
    "scrolled": true
   },
   "outputs": [],
   "source": [
    "weatherHistory"
   ]
  },
  {
   "cell_type": "code",
   "execution_count": null,
   "metadata": {},
   "outputs": [],
   "source": [
    "import numpy as np\n",
    "data_mean_temp_each_month=[]\n",
    "data_mean_humid_each_month=[]\n",
    "\n",
    "for i in range(1,13):\n",
    "    temp_list_each_year=[]\n",
    "    humid_list_each_year=[]\n",
    "    for k in range(2006,2017):\n",
    "        mean_temp=weatherHistory[(weatherHistory['Month']==i)&(weatherHistory['Year']==k)]['Apparent Temperature (C)'].mean()\n",
    "        mean_humidity=weatherHistory[(weatherHistory['Month']==i)&(weatherHistory['Year']==k)]['Humidity'].mean()\n",
    "        temp_list_each_year.append(mean_temp)\n",
    "        humid_list_each_year.append(mean_humidity)\n",
    "    data_mean_temp_each_month.append(temp_list_each_year)\n",
    "    data_mean_humid_each_month.append(humid_list_each_year)\n",
    "    \n",
    "data_mean_humid_each_month=np.asarray(data_mean_humid_each_month)\n",
    "data_mean_temp_each_month=np.asarray(data_mean_temp_each_month)"
   ]
  },
  {
   "cell_type": "code",
   "execution_count": null,
   "metadata": {},
   "outputs": [],
   "source": [
    "def simple_graph(graph):\n",
    "    graph.spines['right'].set_visible(False)\n",
    "    graph.spines['left'].set_visible(False)\n",
    "    graph.spines['top'].set_visible(False)\n",
    "    graph.spines['bottom'].set_visible(False)\n",
    "    graph.tick_params(bottom='off',top='off',left='off',right='off')"
   ]
  },
  {
   "cell_type": "code",
   "execution_count": null,
   "metadata": {},
   "outputs": [],
   "source": [
    "import matplotlib.pyplot as plt\n",
    "import matplotlib.cm as cm\n",
    "\n",
    "fig = plt.figure(figsize=(12, 12))\n",
    "colorlist1 = iter(cm.rainbow(np.linspace(0, 1, 12)))\n",
    "colorlist2 = iter(cm.rainbow(np.linspace(0, 1, 12)))\n",
    "\n",
    "for sp in range(0,12):\n",
    "    a=dt.datetime.strptime(str(sp+1),'%m')\n",
    "    month_=dt.datetime.strftime(a,'%b')\n",
    "    ax_1=fig.add_subplot(2,1,1)\n",
    "    ax_1.plot(range(2006,2017),data_mean_humid_each_month[sp],c=next(colorlist1),label=month_)\n",
    "    ax_2=fig.add_subplot(2,1,2)\n",
    "    ax_2.plot(range(2006,2017),data_mean_temp_each_month[sp],c=next(colorlist2),label=month_)\n",
    "\n",
    "ax_1.set_title('mean humid each month over years from 2006 to 2016',size=20)\n",
    "ax_1.set_xlabel('years')\n",
    "ax_1.set_ylabel('humidity',size=13)\n",
    "\n",
    "ax_2.set_title('mean temperature each month over years from 2006 to 2016',size=20)\n",
    "ax_2.set_xlabel('years')\n",
    "ax_2.set_ylabel('Averaged Temperature (Celcius degree)',size=13)\n",
    "\n",
    "simple_graph(ax_1)\n",
    "simple_graph(ax_2)\n",
    "\n",
    "plt.tight_layout()\n",
    "plt.legend(bbox_to_anchor=(1.1,1.4))\n",
    "\n",
    "plt.show()\n"
   ]
  },
  {
   "cell_type": "markdown",
   "metadata": {},
   "source": [
    "As you can see from the graphs, the humidity level of each month remain the same during the surveyed period."
   ]
  }
 ],
 "metadata": {
  "kernelspec": {
   "display_name": "Python 3",
   "language": "python",
   "name": "python3"
  },
  "language_info": {
   "codemirror_mode": {
    "name": "ipython",
    "version": 3
   },
   "file_extension": ".py",
   "mimetype": "text/x-python",
   "name": "python",
   "nbconvert_exporter": "python",
   "pygments_lexer": "ipython3",
   "version": "3.7.4"
  }
 },
 "nbformat": 4,
 "nbformat_minor": 2
}
