{
 "cells": [
  {
   "cell_type": "code",
   "execution_count": 30,
   "metadata": {},
   "outputs": [],
   "source": [
    "import pandas as pd\n",
    "import datetime as dt\n",
    "weatherHistory=pd.read_csv('weatherHistory.csv')"
   ]
  },
  {
   "cell_type": "code",
   "execution_count": 31,
   "metadata": {},
   "outputs": [
    {
     "data": {
      "text/plain": [
       "(96453, 12)"
      ]
     },
     "execution_count": 31,
     "metadata": {},
     "output_type": "execute_result"
    }
   ],
   "source": [
    "weatherHistory.shape"
   ]
  },
  {
   "cell_type": "code",
   "execution_count": 33,
   "metadata": {},
   "outputs": [
    {
     "data": {
      "text/plain": [
       "96453"
      ]
     },
     "execution_count": 33,
     "metadata": {},
     "output_type": "execute_result"
    }
   ],
   "source": [
    "weatherHistory.shape[0]"
   ]
  },
  {
   "cell_type": "code",
   "execution_count": 32,
   "metadata": {
    "scrolled": false
   },
   "outputs": [
    {
     "name": "stderr",
     "output_type": "stream",
     "text": [
      "C:\\Users\\ASUS\\Anaconda3\\lib\\site-packages\\ipykernel_launcher.py:2: SettingWithCopyWarning: \n",
      "A value is trying to be set on a copy of a slice from a DataFrame\n",
      "\n",
      "See the caveats in the documentation: http://pandas.pydata.org/pandas-docs/stable/user_guide/indexing.html#returning-a-view-versus-a-copy\n",
      "  \n"
     ]
    }
   ],
   "source": [
    "for i in range(weatherHistory.shape[0]):\n",
    "    weatherHistory['Formatted Date'][i]=dt.datetime.strptime(weatherHistory['Formatted Date'][i],'%Y-%m-%d %H:%M:%S.%f %z')"
   ]
  },
  {
   "cell_type": "code",
   "execution_count": 43,
   "metadata": {},
   "outputs": [
    {
     "data": {
      "text/plain": [
       "datetime.timezone(datetime.timedelta(seconds=7200))"
      ]
     },
     "execution_count": 43,
     "metadata": {},
     "output_type": "execute_result"
    }
   ],
   "source": [
    "weatherHistory['Formatted Date'][0].tzinfo"
   ]
  },
  {
   "cell_type": "code",
   "execution_count": 37,
   "metadata": {},
   "outputs": [
    {
     "ename": "TypeError",
     "evalue": "string indices must be integers",
     "output_type": "error",
     "traceback": [
      "\u001b[1;31m---------------------------------------------------------------------------\u001b[0m",
      "\u001b[1;31mTypeError\u001b[0m                                 Traceback (most recent call last)",
      "\u001b[1;32m<ipython-input-37-75f79cd043e6>\u001b[0m in \u001b[0;36m<module>\u001b[1;34m\u001b[0m\n\u001b[0;32m      1\u001b[0m \u001b[1;32mdef\u001b[0m \u001b[0mfunc\u001b[0m\u001b[1;33m(\u001b[0m\u001b[0mdataa\u001b[0m\u001b[1;33m)\u001b[0m\u001b[1;33m:\u001b[0m\u001b[1;33m\u001b[0m\u001b[1;33m\u001b[0m\u001b[0m\n\u001b[0;32m      2\u001b[0m     \u001b[1;32mreturn\u001b[0m \u001b[0mdataa\u001b[0m\u001b[1;33m[\u001b[0m\u001b[1;34m'Formatted Date'\u001b[0m\u001b[1;33m]\u001b[0m\u001b[1;33m\u001b[0m\u001b[1;33m\u001b[0m\u001b[0m\n\u001b[1;32m----> 3\u001b[1;33m \u001b[0msorted\u001b[0m\u001b[1;33m(\u001b[0m\u001b[0mweatherHistory\u001b[0m\u001b[1;33m,\u001b[0m\u001b[0mkey\u001b[0m\u001b[1;33m=\u001b[0m\u001b[0mfunc\u001b[0m\u001b[1;33m)\u001b[0m\u001b[1;33m\u001b[0m\u001b[1;33m\u001b[0m\u001b[0m\n\u001b[0m",
      "\u001b[1;32m<ipython-input-37-75f79cd043e6>\u001b[0m in \u001b[0;36mfunc\u001b[1;34m(dataa)\u001b[0m\n\u001b[0;32m      1\u001b[0m \u001b[1;32mdef\u001b[0m \u001b[0mfunc\u001b[0m\u001b[1;33m(\u001b[0m\u001b[0mdataa\u001b[0m\u001b[1;33m)\u001b[0m\u001b[1;33m:\u001b[0m\u001b[1;33m\u001b[0m\u001b[1;33m\u001b[0m\u001b[0m\n\u001b[1;32m----> 2\u001b[1;33m     \u001b[1;32mreturn\u001b[0m \u001b[0mdataa\u001b[0m\u001b[1;33m[\u001b[0m\u001b[1;34m'Formatted Date'\u001b[0m\u001b[1;33m]\u001b[0m\u001b[1;33m\u001b[0m\u001b[1;33m\u001b[0m\u001b[0m\n\u001b[0m\u001b[0;32m      3\u001b[0m \u001b[0msorted\u001b[0m\u001b[1;33m(\u001b[0m\u001b[0mweatherHistory\u001b[0m\u001b[1;33m,\u001b[0m\u001b[0mkey\u001b[0m\u001b[1;33m=\u001b[0m\u001b[0mfunc\u001b[0m\u001b[1;33m)\u001b[0m\u001b[1;33m\u001b[0m\u001b[1;33m\u001b[0m\u001b[0m\n",
      "\u001b[1;31mTypeError\u001b[0m: string indices must be integers"
     ]
    }
   ],
   "source": [
    "def func(dataa):\n",
    "    return dataa['Formatted Date']\n",
    "sorted(weatherHistory,key=func)"
   ]
  },
  {
   "cell_type": "code",
   "execution_count": 77,
   "metadata": {},
   "outputs": [],
   "source": [
    "for i in range(weatherHistory.shape[0]):\n",
    "    booleann=weatherHistory.loc[:,'Formatted Date'][i].year==2006"
   ]
  },
  {
   "cell_type": "code",
   "execution_count": 101,
   "metadata": {},
   "outputs": [],
   "source": [
    "start='2006-01-01 00:00:00.000 +0200'\n",
    "end='2006-12-31 23:00:00.000 +0200'\n",
    "start_time=dt.datetime.strptime(start,'%Y-%m-%d %H:%M:%S.%f %z')\n",
    "end_time=dt.datetime.strptime(end,'%Y-%m-%d %H:%M:%S.%f %z')\n",
    "booleann=(weatherHistory['Formatted Date']>start_time) & (weatherHistory['Formatted Date']<end_time)\n"
   ]
  },
  {
   "cell_type": "code",
   "execution_count": 98,
   "metadata": {},
   "outputs": [],
   "source": [
    "start='2006-01-01 00:00:00.000 +0200'\n",
    "end='2006-12-31 23:00:00.000 +0200'\n",
    "start_time=dt.datetime.strptime(start,'%Y-%m-%d %H:%M:%S.%f %z')\n",
    "end_time=dt.datetime.strptime(end,'%Y-%m-%d %H:%M:%S.%f %z').year"
   ]
  },
  {
   "cell_type": "code",
   "execution_count": 103,
   "metadata": {},
   "outputs": [
    {
     "data": {
      "text/html": [
       "<div>\n",
       "<style scoped>\n",
       "    .dataframe tbody tr th:only-of-type {\n",
       "        vertical-align: middle;\n",
       "    }\n",
       "\n",
       "    .dataframe tbody tr th {\n",
       "        vertical-align: top;\n",
       "    }\n",
       "\n",
       "    .dataframe thead th {\n",
       "        text-align: right;\n",
       "    }\n",
       "</style>\n",
       "<table border=\"1\" class=\"dataframe\">\n",
       "  <thead>\n",
       "    <tr style=\"text-align: right;\">\n",
       "      <th></th>\n",
       "      <th>Formatted Date</th>\n",
       "      <th>Summary</th>\n",
       "      <th>Precip Type</th>\n",
       "      <th>Temperature (C)</th>\n",
       "      <th>Apparent Temperature (C)</th>\n",
       "      <th>Humidity</th>\n",
       "      <th>Wind Speed (km/h)</th>\n",
       "      <th>Wind Bearing (degrees)</th>\n",
       "      <th>Visibility (km)</th>\n",
       "      <th>Loud Cover</th>\n",
       "      <th>Pressure (millibars)</th>\n",
       "      <th>Daily Summary</th>\n",
       "    </tr>\n",
       "  </thead>\n",
       "  <tbody>\n",
       "    <tr>\n",
       "      <td>2880</td>\n",
       "      <td>2006-01-01 00:00:00+01:00</td>\n",
       "      <td>Partly Cloudy</td>\n",
       "      <td>rain</td>\n",
       "      <td>0.577778</td>\n",
       "      <td>-4.050000</td>\n",
       "      <td>0.89</td>\n",
       "      <td>17.1143</td>\n",
       "      <td>140.0</td>\n",
       "      <td>9.9820</td>\n",
       "      <td>0.0</td>\n",
       "      <td>1016.66</td>\n",
       "      <td>Mostly cloudy throughout the day.</td>\n",
       "    </tr>\n",
       "    <tr>\n",
       "      <td>2881</td>\n",
       "      <td>2006-01-01 01:00:00+01:00</td>\n",
       "      <td>Mostly Cloudy</td>\n",
       "      <td>rain</td>\n",
       "      <td>1.161111</td>\n",
       "      <td>-3.238889</td>\n",
       "      <td>0.85</td>\n",
       "      <td>16.6152</td>\n",
       "      <td>139.0</td>\n",
       "      <td>9.9015</td>\n",
       "      <td>0.0</td>\n",
       "      <td>1016.15</td>\n",
       "      <td>Mostly cloudy throughout the day.</td>\n",
       "    </tr>\n",
       "    <tr>\n",
       "      <td>2882</td>\n",
       "      <td>2006-01-01 02:00:00+01:00</td>\n",
       "      <td>Mostly Cloudy</td>\n",
       "      <td>rain</td>\n",
       "      <td>1.666667</td>\n",
       "      <td>-3.155556</td>\n",
       "      <td>0.82</td>\n",
       "      <td>20.2538</td>\n",
       "      <td>140.0</td>\n",
       "      <td>9.9015</td>\n",
       "      <td>0.0</td>\n",
       "      <td>1015.87</td>\n",
       "      <td>Mostly cloudy throughout the day.</td>\n",
       "    </tr>\n",
       "    <tr>\n",
       "      <td>2883</td>\n",
       "      <td>2006-01-01 03:00:00+01:00</td>\n",
       "      <td>Overcast</td>\n",
       "      <td>rain</td>\n",
       "      <td>1.711111</td>\n",
       "      <td>-2.194444</td>\n",
       "      <td>0.82</td>\n",
       "      <td>14.4900</td>\n",
       "      <td>140.0</td>\n",
       "      <td>9.9015</td>\n",
       "      <td>0.0</td>\n",
       "      <td>1015.56</td>\n",
       "      <td>Mostly cloudy throughout the day.</td>\n",
       "    </tr>\n",
       "    <tr>\n",
       "      <td>2884</td>\n",
       "      <td>2006-01-01 04:00:00+01:00</td>\n",
       "      <td>Mostly Cloudy</td>\n",
       "      <td>rain</td>\n",
       "      <td>1.183333</td>\n",
       "      <td>-2.744444</td>\n",
       "      <td>0.86</td>\n",
       "      <td>13.9426</td>\n",
       "      <td>134.0</td>\n",
       "      <td>9.9015</td>\n",
       "      <td>0.0</td>\n",
       "      <td>1014.98</td>\n",
       "      <td>Mostly cloudy throughout the day.</td>\n",
       "    </tr>\n",
       "    <tr>\n",
       "      <td>...</td>\n",
       "      <td>...</td>\n",
       "      <td>...</td>\n",
       "      <td>...</td>\n",
       "      <td>...</td>\n",
       "      <td>...</td>\n",
       "      <td>...</td>\n",
       "      <td>...</td>\n",
       "      <td>...</td>\n",
       "      <td>...</td>\n",
       "      <td>...</td>\n",
       "      <td>...</td>\n",
       "      <td>...</td>\n",
       "    </tr>\n",
       "    <tr>\n",
       "      <td>89728</td>\n",
       "      <td>2016-12-31 19:00:00+01:00</td>\n",
       "      <td>Mostly Cloudy</td>\n",
       "      <td>rain</td>\n",
       "      <td>0.488889</td>\n",
       "      <td>-2.644444</td>\n",
       "      <td>0.86</td>\n",
       "      <td>9.7566</td>\n",
       "      <td>167.0</td>\n",
       "      <td>8.0178</td>\n",
       "      <td>0.0</td>\n",
       "      <td>1020.03</td>\n",
       "      <td>Mostly cloudy throughout the day.</td>\n",
       "    </tr>\n",
       "    <tr>\n",
       "      <td>89729</td>\n",
       "      <td>2016-12-31 20:00:00+01:00</td>\n",
       "      <td>Mostly Cloudy</td>\n",
       "      <td>rain</td>\n",
       "      <td>0.072222</td>\n",
       "      <td>-3.050000</td>\n",
       "      <td>0.88</td>\n",
       "      <td>9.4185</td>\n",
       "      <td>169.0</td>\n",
       "      <td>7.2450</td>\n",
       "      <td>0.0</td>\n",
       "      <td>1020.27</td>\n",
       "      <td>Mostly cloudy throughout the day.</td>\n",
       "    </tr>\n",
       "    <tr>\n",
       "      <td>89730</td>\n",
       "      <td>2016-12-31 21:00:00+01:00</td>\n",
       "      <td>Mostly Cloudy</td>\n",
       "      <td>snow</td>\n",
       "      <td>-0.233333</td>\n",
       "      <td>-3.377778</td>\n",
       "      <td>0.89</td>\n",
       "      <td>9.2736</td>\n",
       "      <td>175.0</td>\n",
       "      <td>9.5795</td>\n",
       "      <td>0.0</td>\n",
       "      <td>1020.50</td>\n",
       "      <td>Mostly cloudy throughout the day.</td>\n",
       "    </tr>\n",
       "    <tr>\n",
       "      <td>89731</td>\n",
       "      <td>2016-12-31 22:00:00+01:00</td>\n",
       "      <td>Mostly Cloudy</td>\n",
       "      <td>snow</td>\n",
       "      <td>-0.472222</td>\n",
       "      <td>-3.644444</td>\n",
       "      <td>0.91</td>\n",
       "      <td>9.2414</td>\n",
       "      <td>182.0</td>\n",
       "      <td>8.4042</td>\n",
       "      <td>0.0</td>\n",
       "      <td>1020.65</td>\n",
       "      <td>Mostly cloudy throughout the day.</td>\n",
       "    </tr>\n",
       "    <tr>\n",
       "      <td>89732</td>\n",
       "      <td>2016-12-31 23:00:00+01:00</td>\n",
       "      <td>Mostly Cloudy</td>\n",
       "      <td>snow</td>\n",
       "      <td>-0.677778</td>\n",
       "      <td>-3.888889</td>\n",
       "      <td>0.92</td>\n",
       "      <td>9.2253</td>\n",
       "      <td>189.0</td>\n",
       "      <td>8.8711</td>\n",
       "      <td>0.0</td>\n",
       "      <td>1020.72</td>\n",
       "      <td>Mostly cloudy throughout the day.</td>\n",
       "    </tr>\n",
       "  </tbody>\n",
       "</table>\n",
       "<p>96453 rows × 12 columns</p>\n",
       "</div>"
      ],
      "text/plain": [
       "                  Formatted Date        Summary Precip Type  Temperature (C)  \\\n",
       "2880   2006-01-01 00:00:00+01:00  Partly Cloudy        rain         0.577778   \n",
       "2881   2006-01-01 01:00:00+01:00  Mostly Cloudy        rain         1.161111   \n",
       "2882   2006-01-01 02:00:00+01:00  Mostly Cloudy        rain         1.666667   \n",
       "2883   2006-01-01 03:00:00+01:00       Overcast        rain         1.711111   \n",
       "2884   2006-01-01 04:00:00+01:00  Mostly Cloudy        rain         1.183333   \n",
       "...                          ...            ...         ...              ...   \n",
       "89728  2016-12-31 19:00:00+01:00  Mostly Cloudy        rain         0.488889   \n",
       "89729  2016-12-31 20:00:00+01:00  Mostly Cloudy        rain         0.072222   \n",
       "89730  2016-12-31 21:00:00+01:00  Mostly Cloudy        snow        -0.233333   \n",
       "89731  2016-12-31 22:00:00+01:00  Mostly Cloudy        snow        -0.472222   \n",
       "89732  2016-12-31 23:00:00+01:00  Mostly Cloudy        snow        -0.677778   \n",
       "\n",
       "       Apparent Temperature (C)  Humidity  Wind Speed (km/h)  \\\n",
       "2880                  -4.050000      0.89            17.1143   \n",
       "2881                  -3.238889      0.85            16.6152   \n",
       "2882                  -3.155556      0.82            20.2538   \n",
       "2883                  -2.194444      0.82            14.4900   \n",
       "2884                  -2.744444      0.86            13.9426   \n",
       "...                         ...       ...                ...   \n",
       "89728                 -2.644444      0.86             9.7566   \n",
       "89729                 -3.050000      0.88             9.4185   \n",
       "89730                 -3.377778      0.89             9.2736   \n",
       "89731                 -3.644444      0.91             9.2414   \n",
       "89732                 -3.888889      0.92             9.2253   \n",
       "\n",
       "       Wind Bearing (degrees)  Visibility (km)  Loud Cover  \\\n",
       "2880                    140.0           9.9820         0.0   \n",
       "2881                    139.0           9.9015         0.0   \n",
       "2882                    140.0           9.9015         0.0   \n",
       "2883                    140.0           9.9015         0.0   \n",
       "2884                    134.0           9.9015         0.0   \n",
       "...                       ...              ...         ...   \n",
       "89728                   167.0           8.0178         0.0   \n",
       "89729                   169.0           7.2450         0.0   \n",
       "89730                   175.0           9.5795         0.0   \n",
       "89731                   182.0           8.4042         0.0   \n",
       "89732                   189.0           8.8711         0.0   \n",
       "\n",
       "       Pressure (millibars)                      Daily Summary  \n",
       "2880                1016.66  Mostly cloudy throughout the day.  \n",
       "2881                1016.15  Mostly cloudy throughout the day.  \n",
       "2882                1015.87  Mostly cloudy throughout the day.  \n",
       "2883                1015.56  Mostly cloudy throughout the day.  \n",
       "2884                1014.98  Mostly cloudy throughout the day.  \n",
       "...                     ...                                ...  \n",
       "89728               1020.03  Mostly cloudy throughout the day.  \n",
       "89729               1020.27  Mostly cloudy throughout the day.  \n",
       "89730               1020.50  Mostly cloudy throughout the day.  \n",
       "89731               1020.65  Mostly cloudy throughout the day.  \n",
       "89732               1020.72  Mostly cloudy throughout the day.  \n",
       "\n",
       "[96453 rows x 12 columns]"
      ]
     },
     "execution_count": 103,
     "metadata": {},
     "output_type": "execute_result"
    }
   ],
   "source": [
    "weatherHistory.sort_values(by='Formatted Date')"
   ]
  },
  {
   "cell_type": "code",
   "execution_count": 69,
   "metadata": {},
   "outputs": [
    {
     "ename": "TypeError",
     "evalue": "'getset_descriptor' object is not callable",
     "output_type": "error",
     "traceback": [
      "\u001b[1;31m---------------------------------------------------------------------------\u001b[0m",
      "\u001b[1;31mTypeError\u001b[0m                                 Traceback (most recent call last)",
      "\u001b[1;32m<ipython-input-69-703769e35406>\u001b[0m in \u001b[0;36m<module>\u001b[1;34m\u001b[0m\n\u001b[1;32m----> 1\u001b[1;33m \u001b[0mdt\u001b[0m\u001b[1;33m.\u001b[0m\u001b[0mdatetime\u001b[0m\u001b[1;33m.\u001b[0m\u001b[0myear\u001b[0m\u001b[1;33m(\u001b[0m\u001b[0mweatherHistory\u001b[0m\u001b[1;33m[\u001b[0m\u001b[1;34m'Formatted Date'\u001b[0m\u001b[1;33m]\u001b[0m\u001b[1;33m[\u001b[0m\u001b[1;36m1\u001b[0m\u001b[1;33m]\u001b[0m\u001b[1;33m)\u001b[0m\u001b[1;33m\u001b[0m\u001b[1;33m\u001b[0m\u001b[0m\n\u001b[0m",
      "\u001b[1;31mTypeError\u001b[0m: 'getset_descriptor' object is not callable"
     ]
    }
   ],
   "source": [
    "dt.datetime.year(weatherHistory['Formatted Date'][1])"
   ]
  },
  {
   "cell_type": "code",
   "execution_count": null,
   "metadata": {},
   "outputs": [],
   "source": [
    "'''new line'''"
   ]
  }
 ],
 "metadata": {
  "kernelspec": {
   "display_name": "Python 3",
   "language": "python",
   "name": "python3"
  },
  "language_info": {
   "codemirror_mode": {
    "name": "ipython",
    "version": 3
   },
   "file_extension": ".py",
   "mimetype": "text/x-python",
   "name": "python",
   "nbconvert_exporter": "python",
   "pygments_lexer": "ipython3",
   "version": "3.7.4"
  }
 },
 "nbformat": 4,
 "nbformat_minor": 2
}
